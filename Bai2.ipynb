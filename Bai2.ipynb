{
 "cells": [
  {
   "cell_type": "code",
   "execution_count": 26,
   "metadata": {},
   "outputs": [
    {
     "name": "stdout",
     "output_type": "stream",
     "text": [
      "Shape (2, 3, 3): \n",
      " [[[8 8 8]\n",
      "  [8 8 8]]\n",
      "\n",
      " [[8 8 8]\n",
      "  [8 8 8]]]\n",
      "------------------\n",
      "Shape (2, 1, 3): \n",
      " [[[9 9 9]]\n",
      "\n",
      " [[9 9 9]]]\n",
      "------------------\n",
      "Shape (3, 2, 3): \n",
      " [[[8 8 8]\n",
      "  [8 8 8]]\n",
      "\n",
      " [[8 8 8]\n",
      "  [8 8 8]]\n",
      "\n",
      " [[8 8 8]\n",
      "  [8 8 8]]]\n",
      "------------------\n"
     ]
    }
   ],
   "source": [
    "import numpy as np\n",
    "# shape (2,2,3)\n",
    "array1 = np.full((2,2,3), 8)\n",
    "print(\"Shape (2, 3, 3): \\n\", array1)\n",
    "print(\"------------------\")\n",
    "\n",
    "array2 = np.full((2,1,3), 9)\n",
    "print(\"Shape (2, 1, 3): \\n\", array2)\n",
    "print(\"------------------\")\n",
    "\n",
    "array3 = np.full((3,2,3), 8)\n",
    "print(\"Shape (3, 2, 3): \\n\", array3)\n",
    "print(\"------------------\")\n"
   ]
  },
  {
   "cell_type": "code",
   "execution_count": null,
   "metadata": {},
   "outputs": [],
   "source": []
  },
  {
   "cell_type": "code",
   "execution_count": null,
   "metadata": {},
   "outputs": [],
   "source": []
  }
 ],
 "metadata": {
  "kernelspec": {
   "display_name": "Python 3",
   "language": "python",
   "name": "python3"
  },
  "language_info": {
   "codemirror_mode": {
    "name": "ipython",
    "version": 3
   },
   "file_extension": ".py",
   "mimetype": "text/x-python",
   "name": "python",
   "nbconvert_exporter": "python",
   "pygments_lexer": "ipython3",
   "version": "3.7.3"
  }
 },
 "nbformat": 4,
 "nbformat_minor": 2
}
