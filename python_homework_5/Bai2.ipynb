{
 "cells": [
  {
   "cell_type": "code",
   "execution_count": 1,
   "metadata": {},
   "outputs": [
    {
     "name": "stdout",
     "output_type": "stream",
     "text": [
      "Ma trận đơn vị 5x5:\n",
      " [[1. 0. 0. 0. 0.]\n",
      " [0. 1. 0. 0. 0.]\n",
      " [0. 0. 1. 0. 0.]\n",
      " [0. 0. 0. 1. 0.]\n",
      " [0. 0. 0. 0. 1.]]\n",
      "Rank của ma trận đơn vị 5x5: 5 \n",
      "\n",
      "Ma trận đơn vị 3x3:\n",
      " [[1. 0. 0.]\n",
      " [0. 1. 0.]\n",
      " [0. 0. 1.]]\n",
      "Rank của ma trận đơn vị 3x3: 3\n"
     ]
    }
   ],
   "source": [
    "import numpy as np\n",
    "\n",
    "a = np.eye(5)\n",
    "print(\"Ma trận đơn vị 5x5:\\n\", a)\n",
    "rank_a = np.linalg.matrix_rank(a)\n",
    "print(\"Rank của ma trận đơn vị 5x5:\", rank_a, \"\\n\")\n",
    "\n",
    "b = np.eye(3)\n",
    "print(\"Ma trận đơn vị 3x3:\\n\", b)\n",
    "rank_b = np.linalg.matrix_rank(b)\n",
    "print(\"Rank của ma trận đơn vị 3x3:\", rank_b)"
   ]
  },
  {
   "cell_type": "code",
   "execution_count": null,
   "metadata": {},
   "outputs": [],
   "source": []
  }
 ],
 "metadata": {
  "kernelspec": {
   "display_name": "Python 3",
   "language": "python",
   "name": "python3"
  },
  "language_info": {
   "codemirror_mode": {
    "name": "ipython",
    "version": 3
   },
   "file_extension": ".py",
   "mimetype": "text/x-python",
   "name": "python",
   "nbconvert_exporter": "python",
   "pygments_lexer": "ipython3",
   "version": "3.7.3"
  }
 },
 "nbformat": 4,
 "nbformat_minor": 2
}
