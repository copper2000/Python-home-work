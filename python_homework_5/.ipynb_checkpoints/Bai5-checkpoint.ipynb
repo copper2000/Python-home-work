{
 "cells": [
  {
   "cell_type": "code",
   "execution_count": 86,
   "metadata": {},
   "outputs": [
    {
     "name": "stdout",
     "output_type": "stream",
     "text": [
      "Ma trận x:\n",
      " [[ 2  3  4  5  1]\n",
      " [ 2 -1  2 -3 -1]\n",
      " [ 3  4 -6  7  1]] \n",
      "\n",
      "1. In dòng thứ 2:\n",
      " [[ 2 -1  2 -3 -1]] \n",
      "\n",
      "2. In cột thứ 3:\n",
      " [[ 4]\n",
      " [ 2]\n",
      " [-6]] \n",
      "\n",
      "3. In tất cả các hàng và cột thứ 1 đến cột thứ 4:\n",
      " [[ 2  3  4  5]\n",
      " [ 2 -1  2 -3]\n",
      " [ 3  4 -6  7]] \n",
      "\n",
      "4. In 2 hàng đầu và 3 cột đầu:\n",
      " [[ 2  3  4]\n",
      " [ 2 -1  2]] \n",
      "\n",
      "5. Giá trị lớn nhất: 7 \n",
      "\n",
      "5.1 Giá trị nhỏ nhất: -6 \n",
      "\n",
      "6. Index max của hàng 3: 3 \n",
      "\n",
      "6.1. Index min của hàng 3: 2 \n",
      "\n",
      "7. Ma trận x chỉ có 3 hàng(dòng) \n",
      "\n",
      "8. Độ lệch chuẩn: 3.159465496286076 \n",
      "\n",
      "9. Độ lệch chuẩn của cột:\n",
      " [[1.41421356]\n",
      " [1.93907194]\n",
      " [4.35430821]] \n",
      "\n",
      "10. Độ lệch chuẩn của hàng:\n",
      " [[0.47140452 2.1602469  4.3204938  4.3204938  0.94280904]]\n"
     ]
    }
   ],
   "source": [
    "import numpy as np\n",
    "\n",
    "x = np.matrix([[ 2,3,4,5,1], [2, -1, 2, -3, -1], [3, 4, -6, 7, 1]])\n",
    "\n",
    "print(\"Ma trận x:\\n\", x, \"\\n\")\n",
    "print(\"1. In dòng thứ 2:\\n\", x[1], \"\\n\")\n",
    "print(\"2. In cột thứ 3:\\n\", x[:, 2], \"\\n\")\n",
    "print(\"3. In tất cả các hàng và cột thứ 1 đến cột thứ 4:\\n\", x[:, :4], \"\\n\")\n",
    "print(\"4. In 2 hàng đầu và 3 cột đầu:\\n\", x[:2, :3], \"\\n\")\n",
    "print(\"5. Giá trị lớn nhất:\", np.max(x), \"\\n\")\n",
    "print(\"5.1 Giá trị nhỏ nhất:\", np.min(x), \"\\n\")\n",
    "print(\"6. Index max của hàng 3:\", np.argmax(x[2]), \"\\n\")\n",
    "print(\"6.1. Index min của hàng 3:\", np.argmin(x[2]), \"\\n\")\n",
    "try:\n",
    "    print(\"7. Index max của dòng 4:\", np.argmax(x[3]), \"\\n\")\n",
    "    print(\"7.1. Index min của dòng 4:\", np.argmin(x[3]), \"\\n\")\n",
    "except:\n",
    "    print(\"7. Ma trận x chỉ có 3 hàng(dòng)\", \"\\n\")\n",
    "print(\"8. Độ lệch chuẩn:\", np.std(x), \"\\n\")\n",
    "print(\"9. Độ lệch chuẩn của cột:\\n\", np.std(x, 1), \"\\n\")\n",
    "print(\"10. Độ lệch chuẩn của hàng:\\n\", np.std(x, 0))"
   ]
  },
  {
   "cell_type": "code",
   "execution_count": null,
   "metadata": {},
   "outputs": [],
   "source": []
  }
 ],
 "metadata": {
  "kernelspec": {
   "display_name": "Python 3",
   "language": "python",
   "name": "python3"
  },
  "language_info": {
   "codemirror_mode": {
    "name": "ipython",
    "version": 3
   },
   "file_extension": ".py",
   "mimetype": "text/x-python",
   "name": "python",
   "nbconvert_exporter": "python",
   "pygments_lexer": "ipython3",
   "version": "3.7.3"
  }
 },
 "nbformat": 4,
 "nbformat_minor": 2
}
