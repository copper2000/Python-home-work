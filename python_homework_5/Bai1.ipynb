{
 "cells": [
  {
   "cell_type": "code",
   "execution_count": 35,
   "metadata": {},
   "outputs": [
    {
     "name": "stdout",
     "output_type": "stream",
     "text": [
      "Ma trận 3x4:\n",
      " [[1 2 3 5]\n",
      " [4 5 6 8]\n",
      " [7 8 9 3]] \n",
      "\n",
      "Ma trận 4x6:\n",
      " [[ 5  7  8  2  6  7]\n",
      " [ 1  5  2  9 10  4]\n",
      " [ 2  7  1  5  6  8]\n",
      " [ 2  7  1  2  3  4]] \n",
      "\n",
      "Rank của ma trận 3x4: 3\n",
      "Rank của ma trận 4x6: 4\n",
      "Không thể tính giá trị riêng và vector riêng của ma trận a và b do chúng không phải ma trận vuông\n"
     ]
    }
   ],
   "source": [
    "import numpy as np\n",
    "\n",
    "a = np.matrix(((1,2,3,5), (4,5,6,8), (7,8,9,3)))\n",
    "b = np.matrix(((5,7,8,2,6,7), (1,5,2,9,10,4), (2,7,1,5,6,8), (2,7,1,2,3,4)))\n",
    "\n",
    "print(\"Ma trận 3x4:\\n\", a, \"\\n\")\n",
    "print(\"Ma trận 4x6:\\n\", b, \"\\n\")\n",
    "\n",
    "rank_a = np.linalg.matrix_rank(a)\n",
    "print(\"Rank của ma trận 3x4:\", rank_a)\n",
    "\n",
    "rank_b = np.linalg.matrix_rank(b)\n",
    "print(\"Rank của ma trận 4x6:\", rank_b)\n",
    "\n",
    "try:\n",
    "    c, d = np.linalg.eig(np.array(a))\n",
    "    print(c)\n",
    "except:\n",
    "    print(\"Không thể tính giá trị riêng và vector riêng của ma trận a và b do chúng không phải ma trận vuông\")\n"
   ]
  },
  {
   "cell_type": "code",
   "execution_count": null,
   "metadata": {},
   "outputs": [],
   "source": []
  }
 ],
 "metadata": {
  "kernelspec": {
   "display_name": "Python 3",
   "language": "python",
   "name": "python3"
  },
  "language_info": {
   "codemirror_mode": {
    "name": "ipython",
    "version": 3
   },
   "file_extension": ".py",
   "mimetype": "text/x-python",
   "name": "python",
   "nbconvert_exporter": "python",
   "pygments_lexer": "ipython3",
   "version": "3.7.3"
  }
 },
 "nbformat": 4,
 "nbformat_minor": 2
}
