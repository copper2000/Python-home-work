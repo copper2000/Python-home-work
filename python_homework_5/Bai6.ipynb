{
 "cells": [
  {
   "cell_type": "code",
   "execution_count": 26,
   "metadata": {},
   "outputs": [
    {
     "name": "stdout",
     "output_type": "stream",
     "text": [
      "Ma trận a:\n",
      " [[-1  4  7  4]\n",
      " [ 7  5  2  0]\n",
      " [-4  5  9  1]\n",
      " [-8 -6  5  3]] \n",
      "\n",
      "1. Định thức của ma trận a: -1230.9999999999993 \n",
      "\n",
      "1.1 Trị riêng của ma trận a:\n",
      " [-2.293435  +0.j          3.64252074+5.95736883j  3.64252074-5.95736883j\n",
      " 11.00839353+0.j        ] \n",
      "\n",
      "1.2 Vector riêng của ma trận a:\n",
      " [[-0.49644034+0.j         -0.25448684+0.27282042j -0.25448684-0.27282042j\n",
      "   0.35891527+0.j        ]\n",
      " [ 0.60802132+0.j          0.31830532+0.26933036j  0.31830532-0.26933036j\n",
      "   0.59843265+0.j        ]\n",
      " [-0.47974078+0.j         -0.12759263-0.18954556j -0.12759263+0.18954556j\n",
      "   0.541606  +0.j        ]\n",
      " [ 0.39205338+0.j         -0.79670631+0.j         -0.79670631-0.j\n",
      "  -0.46874421+0.j        ]] \n",
      "\n",
      "2. Ma trận nghịch đạo của ma trận a:\n",
      " [[-0.05523964  0.20877335 -0.05442729  0.09179529]\n",
      " [ 0.13160032 -0.1738424   0.04142973 -0.18927701]\n",
      " [-0.13566206  0.20389927  0.0869212   0.15190902]\n",
      " [ 0.34199838 -0.13078798 -0.20714866 -0.05361495]] \n",
      "\n",
      "3. Ma trận chuyển vị của ma trận a:\n",
      " [[-1  7 -4 -8]\n",
      " [ 4  5  5 -6]\n",
      " [ 7  2  9  5]\n",
      " [ 4  0  1  3]]\n"
     ]
    }
   ],
   "source": [
    "import numpy as np\n",
    "from numpy import linalg\n",
    "\n",
    "a = np.matrix(((-1, 4, 7, 4), (7, 5, 2, 0), (-4, 5, 9, 1), (-8, -6, 5, 3)))\n",
    "\n",
    "print(\"Ma trận a:\\n\", a, \"\\n\")\n",
    "print(\"1. Định thức của ma trận a:\", np.linalg.det(a), \"\\n\")\n",
    "x, v = linalg.eig(np.array(a))\n",
    "print(\"1.1 Trị riêng của ma trận a:\\n\", x, \"\\n\")\n",
    "print(\"1.2 Vector riêng của ma trận a:\\n\", v, \"\\n\")\n",
    "print(\"2. Ma trận nghịch đạo của ma trận a:\\n\", linalg.inv(a), \"\\n\")\n",
    "print(\"3. Ma trận chuyển vị của ma trận a:\\n\", np.transpose(a))"
   ]
  },
  {
   "cell_type": "code",
   "execution_count": null,
   "metadata": {},
   "outputs": [],
   "source": []
  }
 ],
 "metadata": {
  "kernelspec": {
   "display_name": "Python 3",
   "language": "python",
   "name": "python3"
  },
  "language_info": {
   "codemirror_mode": {
    "name": "ipython",
    "version": 3
   },
   "file_extension": ".py",
   "mimetype": "text/x-python",
   "name": "python",
   "nbconvert_exporter": "python",
   "pygments_lexer": "ipython3",
   "version": "3.7.3"
  }
 },
 "nbformat": 4,
 "nbformat_minor": 2
}
