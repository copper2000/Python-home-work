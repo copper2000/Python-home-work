{
 "cells": [
  {
   "cell_type": "code",
   "execution_count": 24,
   "metadata": {},
   "outputs": [
    {
     "name": "stdout",
     "output_type": "stream",
     "text": [
      "Ma trận ngẫu nhiên a:\n",
      " [[3 4 1 2 2]\n",
      " [4 0 8 3 6]\n",
      " [4 0 3 2 4]\n",
      " [4 5 1 0 5]\n",
      " [3 0 8 3 3]]\n",
      "Tổng của đường chéo chính: 17\n",
      "Đường chéo phụ thứ k = 1: [4 8 2 5]\n",
      "Đường chéo phụ thứ k = -1: [4 0 1 3]\n"
     ]
    }
   ],
   "source": [
    "import numpy as np\n",
    "\n",
    "a = np.random.randint(10, size = (5,5))\n",
    "\n",
    "# convert array a to maxtrix a\n",
    "matrix_a = np.matrix(a)\n",
    "\n",
    "print(\"Ma trận ngẫu nhiên a:\\n\",matrix_a)\n",
    "print(\"Tổng của đường chéo chính:\", np.sum(np.diag(maxtrix_a, 0)))\n",
    "print(\"Đường chéo phụ thứ k = 1:\", np.diag(matrix_a, 1))\n",
    "print(\"Đường chéo phụ thứ k = -1:\", np.diag(matrix_a, -1))"
   ]
  },
  {
   "cell_type": "code",
   "execution_count": null,
   "metadata": {},
   "outputs": [],
   "source": []
  }
 ],
 "metadata": {
  "kernelspec": {
   "display_name": "Python 3",
   "language": "python",
   "name": "python3"
  },
  "language_info": {
   "codemirror_mode": {
    "name": "ipython",
    "version": 3
   },
   "file_extension": ".py",
   "mimetype": "text/x-python",
   "name": "python",
   "nbconvert_exporter": "python",
   "pygments_lexer": "ipython3",
   "version": "3.7.3"
  }
 },
 "nbformat": 4,
 "nbformat_minor": 2
}
