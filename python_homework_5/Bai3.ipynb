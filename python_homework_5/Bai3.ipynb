{
 "cells": [
  {
   "cell_type": "code",
   "execution_count": 15,
   "metadata": {},
   "outputs": [
    {
     "name": "stdout",
     "output_type": "stream",
     "text": [
      "Ma trận A 3x3:\n",
      " [[ 1 -3  5]\n",
      " [ 4  5 -1]\n",
      " [-1  5 -9]] \n",
      "\n",
      "Ma trận A 3x3:\n",
      " [[10 -8  9]\n",
      " [-4  0  5]\n",
      " [ 1  3  4]] \n",
      "\n",
      "Tổng ma trận a và b:\n",
      " [[ 11 -11  14]\n",
      " [  0   5   4]\n",
      " [  0   8  -5]] \n",
      "\n",
      "Tích ma trận a và b:\n",
      " [[ 27   7  14]\n",
      " [ 19 -35  57]\n",
      " [-39 -19 -20]] \n",
      "\n",
      "Hiệu ma trận a và b:\n",
      " [[ -9   5  -4]\n",
      " [  8   5  -6]\n",
      " [ -2   2 -13]]\n"
     ]
    }
   ],
   "source": [
    "import numpy as np\n",
    "a = np.matrix(((1,-3,5), (4,5,-1), (-1,5,-9)))\n",
    "print(\"Ma trận A 3x3:\\n\", a, \"\\n\")\n",
    "\n",
    "b = np.matrix(((10,-8,9), (-4,0,5), (1,3,4)))\n",
    "print(\"Ma trận A 3x3:\\n\", b, \"\\n\")\n",
    "\n",
    "print(\"Tổng ma trận a và b:\\n\", a+b, \"\\n\")\n",
    "print(\"Tích ma trận a và b:\\n\", a*b, \"\\n\")\n",
    "print(\"Hiệu ma trận a và b:\\n\", a-b)"
   ]
  },
  {
   "cell_type": "code",
   "execution_count": null,
   "metadata": {},
   "outputs": [],
   "source": []
  }
 ],
 "metadata": {
  "kernelspec": {
   "display_name": "Python 3",
   "language": "python",
   "name": "python3"
  },
  "language_info": {
   "codemirror_mode": {
    "name": "ipython",
    "version": 3
   },
   "file_extension": ".py",
   "mimetype": "text/x-python",
   "name": "python",
   "nbconvert_exporter": "python",
   "pygments_lexer": "ipython3",
   "version": "3.7.3"
  }
 },
 "nbformat": 4,
 "nbformat_minor": 2
}
