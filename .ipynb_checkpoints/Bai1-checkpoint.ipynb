{
 "cells": [
  {
   "cell_type": "code",
   "execution_count": 14,
   "metadata": {},
   "outputs": [
    {
     "name": "stdout",
     "output_type": "stream",
     "text": [
      "Array 1D:\n",
      "Type: <class 'numpy.ndarray'> and number of dimensional: 1\n",
      "< ----------------------------------------------------------\n",
      "Array 2D:\n",
      "Type: <class 'numpy.ndarray'> and number of dimensional: 2\n",
      "< ----------------------------------------------------------\n",
      "Array 3D:\n",
      "Type: <class 'numpy.ndarray'> and number of dimensional: 3\n",
      "< ----------------------------------------------------------\n"
     ]
    }
   ],
   "source": [
    "import numpy as np\n",
    "\n",
    "array1 = np.zeros(12)\n",
    "array2 = np.ones([3, 12])\n",
    "array3 = np.full([4, 3, 12], 19)\n",
    "\n",
    "print(\"Array 1D:\")\n",
    "print(\"Type:\", type(array1), \"and number of dimensional:\", array1.ndim)\n",
    "print(\"< ----------------------------------------------------------\")\n",
    "print(\"Array 2D:\")\n",
    "print(\"Type:\", type(array2), \"and number of dimensional:\", array2.ndim)\n",
    "print(\"< ----------------------------------------------------------\")\n",
    "print(\"Array 3D:\")\n",
    "print(\"Type:\", type(array3), \"and number of dimensional:\", array3.ndim)\n",
    "print(\"< ----------------------------------------------------------\")"
   ]
  },
  {
   "cell_type": "code",
   "execution_count": null,
   "metadata": {},
   "outputs": [],
   "source": []
  }
 ],
 "metadata": {
  "kernelspec": {
   "display_name": "Python 3",
   "language": "python",
   "name": "python3"
  },
  "language_info": {
   "codemirror_mode": {
    "name": "ipython",
    "version": 3
   },
   "file_extension": ".py",
   "mimetype": "text/x-python",
   "name": "python",
   "nbconvert_exporter": "python",
   "pygments_lexer": "ipython3",
   "version": "3.7.3"
  }
 },
 "nbformat": 4,
 "nbformat_minor": 2
}
