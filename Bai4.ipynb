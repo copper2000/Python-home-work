{
 "cells": [
  {
   "cell_type": "code",
   "execution_count": 8,
   "metadata": {},
   "outputs": [
    {
     "name": "stdout",
     "output_type": "stream",
     "text": [
      "Array with range(2, 13) and shape (2,3,5): \n",
      " [[[ 8  6  8  4 12]\n",
      "  [ 6  4  9 11  9]\n",
      "  [ 9  4 11  9  6]]\n",
      "\n",
      " [[11  2 11  4 11]\n",
      "  [12  3  4 11  3]\n",
      "  [ 7  9  6  9  9]]]\n"
     ]
    }
   ],
   "source": [
    "import numpy as np\n",
    "import random\n",
    "array1 = np.random.randint(2, 13, size = (2, 3, 5))\n",
    "print(\"Array with range(2, 13) and shape (2,3,5): \\n\", array1)"
   ]
  },
  {
   "cell_type": "code",
   "execution_count": null,
   "metadata": {},
   "outputs": [],
   "source": []
  }
 ],
 "metadata": {
  "kernelspec": {
   "display_name": "Python 3",
   "language": "python",
   "name": "python3"
  },
  "language_info": {
   "codemirror_mode": {
    "name": "ipython",
    "version": 3
   },
   "file_extension": ".py",
   "mimetype": "text/x-python",
   "name": "python",
   "nbconvert_exporter": "python",
   "pygments_lexer": "ipython3",
   "version": "3.7.3"
  }
 },
 "nbformat": 4,
 "nbformat_minor": 2
}
