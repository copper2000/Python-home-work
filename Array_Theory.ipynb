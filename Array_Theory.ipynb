{
 "cells": [
  {
   "cell_type": "code",
   "execution_count": 4,
   "metadata": {},
   "outputs": [
    {
     "name": "stdout",
     "output_type": "stream",
     "text": [
      "<built-in method reshape of numpy.ndarray object at 0x0000025AC6A60580>\n"
     ]
    }
   ],
   "source": [
    "import numpy as np\n",
    "import random \n",
    "\n",
    "number1 = np.array([[[1,2,3], [4,5,6], [7,8,9]]])\n",
    "number2 = np.ones((3,6,3))\n",
    "number3 = np.full((3,4,4), 7)\n",
    "number4 = np.eye((5))\n",
    "number5 = np.arange(1, 10, 2, float)\n",
    "\n",
    "number6 = np.random.random((1, 2))\n",
    "number7 = np.random.randint(10, size = 10)\n",
    "number8 = np.random.randint(10, size = (3, 10, 12))\n",
    "\n",
    "number9 = np.array([[(1,2,3), (4,5,6), (15, 66, 43)]])\n",
    "number9 = number9.reshape\n",
    "#print(number9.ndim)\n",
    "print(number9)"
   ]
  },
  {
   "cell_type": "code",
   "execution_count": null,
   "metadata": {},
   "outputs": [],
   "source": []
  },
  {
   "cell_type": "code",
   "execution_count": null,
   "metadata": {},
   "outputs": [],
   "source": []
  },
  {
   "cell_type": "code",
   "execution_count": null,
   "metadata": {},
   "outputs": [],
   "source": []
  }
 ],
 "metadata": {
  "kernelspec": {
   "display_name": "Python 3",
   "language": "python",
   "name": "python3"
  },
  "language_info": {
   "codemirror_mode": {
    "name": "ipython",
    "version": 3
   },
   "file_extension": ".py",
   "mimetype": "text/x-python",
   "name": "python",
   "nbconvert_exporter": "python",
   "pygments_lexer": "ipython3",
   "version": "3.7.3"
  }
 },
 "nbformat": 4,
 "nbformat_minor": 2
}
