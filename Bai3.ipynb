{
 "cells": [
  {
   "cell_type": "code",
   "execution_count": 21,
   "metadata": {},
   "outputs": [
    {
     "name": "stdout",
     "output_type": "stream",
     "text": [
      "Shape (2, 3, 5): \n",
      " [[[0.98572534 0.77168362 0.84186144 0.30150026 0.95039966]\n",
      "  [0.78334247 0.37160832 0.26094864 0.43986415 0.43577525]\n",
      "  [0.59148367 0.73159736 0.06025293 0.36019888 0.21079724]]\n",
      "\n",
      " [[0.4639624  0.9009038  0.29132058 0.8034707  0.41006053]\n",
      "  [0.56073403 0.30433214 0.35091211 0.919799   0.18521465]\n",
      "  [0.29687116 0.0145046  0.57172792 0.69007176 0.71862751]]]\n",
      "------------------------\n",
      "Shape with rule (3, 4, 2): \n",
      " [[[5 4]\n",
      "  [4 5]\n",
      "  [3 7]\n",
      "  [1 6]]\n",
      "\n",
      " [[5 7]\n",
      "  [7 7]\n",
      "  [4 9]\n",
      "  [9 9]]\n",
      "\n",
      " [[6 8]\n",
      "  [1 8]\n",
      "  [9 5]\n",
      "  [7 6]]]\n"
     ]
    }
   ],
   "source": [
    "# shape (2, 3, 5)\n",
    "import numpy as np\n",
    "import random\n",
    "\n",
    "array1 = np.random.random((2, 3, 5))\n",
    "print(\"Shape (2, 3, 5): \\n\", array1)\n",
    "print(\"------------------------\")\n",
    "\n",
    "array2 = np.random.randint(1, 10, size = (3, 4, 2))\n",
    "print(\"Shape with rule (3, 4, 2): \\n\", array2)"
   ]
  },
  {
   "cell_type": "code",
   "execution_count": null,
   "metadata": {},
   "outputs": [],
   "source": []
  },
  {
   "cell_type": "code",
   "execution_count": null,
   "metadata": {},
   "outputs": [],
   "source": []
  }
 ],
 "metadata": {
  "kernelspec": {
   "display_name": "Python 3",
   "language": "python",
   "name": "python3"
  },
  "language_info": {
   "codemirror_mode": {
    "name": "ipython",
    "version": 3
   },
   "file_extension": ".py",
   "mimetype": "text/x-python",
   "name": "python",
   "nbconvert_exporter": "python",
   "pygments_lexer": "ipython3",
   "version": "3.7.3"
  }
 },
 "nbformat": 4,
 "nbformat_minor": 2
}
